{
 "cells": [
  {
   "cell_type": "code",
   "execution_count": 1,
   "id": "2d2decaa",
   "metadata": {
    "execution": {
     "iopub.execute_input": "2023-10-09T11:22:04.005999Z",
     "iopub.status.busy": "2023-10-09T11:22:04.005490Z",
     "iopub.status.idle": "2023-10-09T11:22:14.266917Z",
     "shell.execute_reply": "2023-10-09T11:22:14.265602Z"
    },
    "papermill": {
     "duration": 10.275085,
     "end_time": "2023-10-09T11:22:14.271317",
     "exception": false,
     "start_time": "2023-10-09T11:22:03.996232",
     "status": "completed"
    },
    "tags": []
   },
   "outputs": [
    {
     "name": "stdout",
     "output_type": "stream",
     "text": [
      "Collecting patchify\r\n",
      "  Downloading patchify-0.2.3-py3-none-any.whl (6.6 kB)\r\n",
      "Requirement already satisfied: numpy<2,>=1 in /opt/conda/lib/python3.7/site-packages (from patchify) (1.21.6)\r\n",
      "Installing collected packages: patchify\r\n",
      "Successfully installed patchify-0.2.3\r\n",
      "\u001b[33mWARNING: Running pip as the 'root' user can result in broken permissions and conflicting behaviour with the system package manager. It is recommended to use a virtual environment instead: https://pip.pypa.io/warnings/venv\u001b[0m\u001b[33m\r\n",
      "\u001b[0m"
     ]
    }
   ],
   "source": [
    "!pip install patchify"
   ]
  },
  {
   "cell_type": "markdown",
   "id": "598cfc0a",
   "metadata": {
    "papermill": {
     "duration": 0.019511,
     "end_time": "2023-10-09T11:22:14.302603",
     "exception": false,
     "start_time": "2023-10-09T11:22:14.283092",
     "status": "completed"
    },
    "tags": []
   },
   "source": [
    "# Import Libraries"
   ]
  },
  {
   "cell_type": "code",
   "execution_count": 2,
   "id": "fe3d2ac3",
   "metadata": {
    "execution": {
     "iopub.execute_input": "2023-10-09T11:22:14.330550Z",
     "iopub.status.busy": "2023-10-09T11:22:14.329972Z",
     "iopub.status.idle": "2023-10-09T11:22:20.528853Z",
     "shell.execute_reply": "2023-10-09T11:22:20.527782Z"
    },
    "papermill": {
     "duration": 6.213293,
     "end_time": "2023-10-09T11:22:20.531442",
     "exception": false,
     "start_time": "2023-10-09T11:22:14.318149",
     "status": "completed"
    },
    "tags": []
   },
   "outputs": [],
   "source": [
    "import os\n",
    "os.environ[\"TF_CPP_MIN_LOG_LEVEL\"] = \"2\"\n",
    "import numpy as np\n",
    "import pandas as pd\n",
    "import cv2\n",
    "import tensorflow as tf\n",
    "from tensorflow.keras.layers import *\n",
    "from tensorflow.keras.models import Model\n",
    "from glob import glob\n",
    "from sklearn.utils import shuffle\n",
    "from sklearn.model_selection import train_test_split\n",
    "from patchify import patchify\n",
    "from tensorflow.keras.callbacks import ModelCheckpoint, ReduceLROnPlateau, CSVLogger, EarlyStopping\n",
    "from sklearn.metrics import confusion_matrix, classification_report, plot_confusion_matrix\n",
    "import matplotlib.pyplot as plt"
   ]
  },
  {
   "cell_type": "markdown",
   "id": "4ab4a147",
   "metadata": {
    "papermill": {
     "duration": 0.006001,
     "end_time": "2023-10-09T11:22:20.543975",
     "exception": false,
     "start_time": "2023-10-09T11:22:20.537974",
     "status": "completed"
    },
    "tags": []
   },
   "source": [
    "# Hyperparameters"
   ]
  },
  {
   "cell_type": "code",
   "execution_count": 3,
   "id": "a5d94313",
   "metadata": {
    "execution": {
     "iopub.execute_input": "2023-10-09T11:22:20.558154Z",
     "iopub.status.busy": "2023-10-09T11:22:20.557640Z",
     "iopub.status.idle": "2023-10-09T11:22:20.562986Z",
     "shell.execute_reply": "2023-10-09T11:22:20.561988Z"
    },
    "papermill": {
     "duration": 0.014219,
     "end_time": "2023-10-09T11:22:20.564825",
     "exception": false,
     "start_time": "2023-10-09T11:22:20.550606",
     "status": "completed"
    },
    "tags": []
   },
   "outputs": [],
   "source": [
    "img_size = 224\n",
    "num_channels = 3\n",
    "patch_size = 25\n",
    "num_patches = (img_size // patch_size) ** 2\n",
    "flat_patches_shape = (num_patches, patch_size * patch_size * num_channels)\n",
    "\n",
    "batch_size = 32\n",
    "lr = 1e-4\n",
    "num_epochs = 10\n",
    "num_classes = 2\n",
    "class_names = ['bleeding', 'non-bleeding']"
   ]
  },
  {
   "cell_type": "markdown",
   "id": "caf49b67",
   "metadata": {
    "papermill": {
     "duration": 0.005853,
     "end_time": "2023-10-09T11:22:20.578295",
     "exception": false,
     "start_time": "2023-10-09T11:22:20.572442",
     "status": "completed"
    },
    "tags": []
   },
   "source": [
    "# Load Data"
   ]
  },
  {
   "cell_type": "code",
   "execution_count": 4,
   "id": "58d2ae7a",
   "metadata": {
    "execution": {
     "iopub.execute_input": "2023-10-09T11:22:20.592322Z",
     "iopub.status.busy": "2023-10-09T11:22:20.591420Z",
     "iopub.status.idle": "2023-10-09T11:22:20.597208Z",
     "shell.execute_reply": "2023-10-09T11:22:20.596408Z"
    },
    "papermill": {
     "duration": 0.01461,
     "end_time": "2023-10-09T11:22:20.598975",
     "exception": false,
     "start_time": "2023-10-09T11:22:20.584365",
     "status": "completed"
    },
    "tags": []
   },
   "outputs": [],
   "source": [
    "np.random.seed(42)\n",
    "tf.random.set_seed(42)\n",
    "\n",
    "if not os.path.exists('files'):\n",
    "    os.makedirs('files')\n",
    "\n",
    "PATH = '/kaggle/input/wcebleedgen/WCEBleedGen'\n",
    "model_path = os.path.join('files', 'model.h5')\n",
    "log_path = os.path.join('files', 'log.csv')"
   ]
  },
  {
   "cell_type": "markdown",
   "id": "0257f9c9",
   "metadata": {
    "papermill": {
     "duration": 0.006129,
     "end_time": "2023-10-09T11:22:20.611224",
     "exception": false,
     "start_time": "2023-10-09T11:22:20.605095",
     "status": "completed"
    },
    "tags": []
   },
   "source": [
    "# Train / Validation Dataset"
   ]
  },
  {
   "cell_type": "code",
   "execution_count": 5,
   "id": "e43222d3",
   "metadata": {
    "execution": {
     "iopub.execute_input": "2023-10-09T11:22:20.625427Z",
     "iopub.status.busy": "2023-10-09T11:22:20.624504Z",
     "iopub.status.idle": "2023-10-09T11:22:21.403533Z",
     "shell.execute_reply": "2023-10-09T11:22:21.402331Z"
    },
    "papermill": {
     "duration": 0.788272,
     "end_time": "2023-10-09T11:22:21.405589",
     "exception": false,
     "start_time": "2023-10-09T11:22:20.617317",
     "status": "completed"
    },
    "tags": []
   },
   "outputs": [
    {
     "name": "stdout",
     "output_type": "stream",
     "text": [
      "Total: 2618, Train: 2356, Validation: 262\n"
     ]
    }
   ],
   "source": [
    "bleed_images = glob(os.path.join(PATH, 'bleeding/Images', '*.png'))\n",
    "nonbleed_images = glob(os.path.join(PATH, 'non-bleeding/images', '*.png'))\n",
    "\n",
    "if not bleed_images or not nonbleed_images:\n",
    "    raise ValueError(\"No images found in 'bleed' or 'nonbleed' folders.\")\n",
    "\n",
    "bleed_images = shuffle(bleed_images, random_state=42)\n",
    "nonbleed_images = shuffle(nonbleed_images, random_state=42)\n",
    "\n",
    "train = bleed_images + nonbleed_images\n",
    "train_x, valid_x = train_test_split(train, test_size=0.1, random_state=42)\n",
    "\n",
    "train_x = shuffle(train_x, random_state=42)\n",
    "valid_x = shuffle(valid_x, random_state=42)\n",
    "\n",
    "print(f\"Total: {len(bleed_images)+len(nonbleed_images)}, Train: {len(train_x)}, Validation: {len(valid_x)}\")"
   ]
  },
  {
   "cell_type": "markdown",
   "id": "c162a171",
   "metadata": {
    "papermill": {
     "duration": 0.006224,
     "end_time": "2023-10-09T11:22:21.418666",
     "exception": false,
     "start_time": "2023-10-09T11:22:21.412442",
     "status": "completed"
    },
    "tags": []
   },
   "source": [
    "# Process Images, Patches and Labels"
   ]
  },
  {
   "cell_type": "code",
   "execution_count": 6,
   "id": "66f75576",
   "metadata": {
    "execution": {
     "iopub.execute_input": "2023-10-09T11:22:21.432518Z",
     "iopub.status.busy": "2023-10-09T11:22:21.432197Z",
     "iopub.status.idle": "2023-10-09T11:22:21.438555Z",
     "shell.execute_reply": "2023-10-09T11:22:21.437561Z"
    },
    "papermill": {
     "duration": 0.015367,
     "end_time": "2023-10-09T11:22:21.440355",
     "exception": false,
     "start_time": "2023-10-09T11:22:21.424988",
     "status": "completed"
    },
    "tags": []
   },
   "outputs": [],
   "source": [
    "def process_img_label(path):\n",
    "    \"\"\"Reading Images\"\"\"\n",
    "    path = path.decode()\n",
    "    img = cv2.imread(path, cv2.IMREAD_COLOR)\n",
    "    img = cv2.resize(img, (img_size, img_size))\n",
    "    img = img/255.0\n",
    "    \n",
    "    \"\"\"Patches\"\"\"\n",
    "    patch_shape = (patch_size, patch_size, num_channels)\n",
    "    patches = patchify(img, patch_shape, patch_size)\n",
    "    patches = np.reshape(patches, flat_patches_shape)\n",
    "    patches = patches.astype(np.float32)\n",
    "    \n",
    "    \"\"\"Labels\"\"\"\n",
    "    class_name = path.split('/')[-3]\n",
    "    class_idx = class_names.index(class_name)\n",
    "    class_idx = np.array(class_idx, dtype=np.int32)\n",
    "    return patches, class_idx"
   ]
  },
  {
   "cell_type": "code",
   "execution_count": 7,
   "id": "779fd132",
   "metadata": {
    "execution": {
     "iopub.execute_input": "2023-10-09T11:22:21.454369Z",
     "iopub.status.busy": "2023-10-09T11:22:21.453929Z",
     "iopub.status.idle": "2023-10-09T11:22:21.458802Z",
     "shell.execute_reply": "2023-10-09T11:22:21.457808Z"
    },
    "papermill": {
     "duration": 0.013745,
     "end_time": "2023-10-09T11:22:21.460550",
     "exception": false,
     "start_time": "2023-10-09T11:22:21.446805",
     "status": "completed"
    },
    "tags": []
   },
   "outputs": [],
   "source": [
    "def parse(path):\n",
    "    patches, labels = tf.numpy_function(process_img_label, [path], [tf.float32, tf.int32])\n",
    "    labels = tf.one_hot(labels, num_classes)\n",
    "    \n",
    "    patches.set_shape(flat_patches_shape)\n",
    "    labels.set_shape(num_classes)\n",
    "    \n",
    "    return patches, labels"
   ]
  },
  {
   "cell_type": "code",
   "execution_count": 8,
   "id": "d59a6aba",
   "metadata": {
    "execution": {
     "iopub.execute_input": "2023-10-09T11:22:21.476181Z",
     "iopub.status.busy": "2023-10-09T11:22:21.475429Z",
     "iopub.status.idle": "2023-10-09T11:22:21.480563Z",
     "shell.execute_reply": "2023-10-09T11:22:21.479757Z"
    },
    "papermill": {
     "duration": 0.015506,
     "end_time": "2023-10-09T11:22:21.482342",
     "exception": false,
     "start_time": "2023-10-09T11:22:21.466836",
     "status": "completed"
    },
    "tags": []
   },
   "outputs": [],
   "source": [
    "def tf_dataset(images, batch=32):\n",
    "    data = tf.data.Dataset.from_tensor_slices((images))\n",
    "    data = data.map(parse).batch(batch).prefetch(8)\n",
    "    return data"
   ]
  },
  {
   "cell_type": "markdown",
   "id": "f3aff242",
   "metadata": {
    "papermill": {
     "duration": 0.00613,
     "end_time": "2023-10-09T11:22:21.494610",
     "exception": false,
     "start_time": "2023-10-09T11:22:21.488480",
     "status": "completed"
    },
    "tags": []
   },
   "source": [
    "# ViT Model"
   ]
  },
  {
   "cell_type": "code",
   "execution_count": 9,
   "id": "34df4486",
   "metadata": {
    "execution": {
     "iopub.execute_input": "2023-10-09T11:22:21.508468Z",
     "iopub.status.busy": "2023-10-09T11:22:21.507613Z",
     "iopub.status.idle": "2023-10-09T11:22:21.512644Z",
     "shell.execute_reply": "2023-10-09T11:22:21.511831Z"
    },
    "papermill": {
     "duration": 0.013746,
     "end_time": "2023-10-09T11:22:21.514422",
     "exception": false,
     "start_time": "2023-10-09T11:22:21.500676",
     "status": "completed"
    },
    "tags": []
   },
   "outputs": [],
   "source": [
    "\"\"\"ViT Model Hyperparameters\"\"\"\n",
    "num_layers = 12\n",
    "hidden_dim = 768\n",
    "mlp_dim = 3072\n",
    "num_heads = 12\n",
    "dropout_rate = 0.1"
   ]
  },
  {
   "cell_type": "code",
   "execution_count": 10,
   "id": "41ca2e68",
   "metadata": {
    "execution": {
     "iopub.execute_input": "2023-10-09T11:22:21.528169Z",
     "iopub.status.busy": "2023-10-09T11:22:21.527381Z",
     "iopub.status.idle": "2023-10-09T11:22:21.534434Z",
     "shell.execute_reply": "2023-10-09T11:22:21.533611Z"
    },
    "papermill": {
     "duration": 0.015661,
     "end_time": "2023-10-09T11:22:21.536174",
     "exception": false,
     "start_time": "2023-10-09T11:22:21.520513",
     "status": "completed"
    },
    "tags": []
   },
   "outputs": [],
   "source": [
    "class ClassToken(Layer):\n",
    "    def __init__(self):\n",
    "        super().__init__()\n",
    "    \n",
    "    def build(self, input_shape):\n",
    "        w_init = tf.random_normal_initializer()\n",
    "        self.w = tf.Variable(\n",
    "            initial_value = w_init(shape=(1,1, input_shape[-1]), dtype=tf.float32),\n",
    "            trainable = True\n",
    "        )\n",
    "    \n",
    "    def call(self, inputs):\n",
    "        batch_size__ = tf.shape(inputs)[0]\n",
    "        hidden_dim__ = self.w.shape[-1]\n",
    "        \n",
    "        cls = tf.broadcast_to(self.w, [batch_size__, 1, hidden_dim__])\n",
    "        cls = tf.cast(cls, dtype=inputs.dtype)\n",
    "        return cls"
   ]
  },
  {
   "cell_type": "code",
   "execution_count": 11,
   "id": "bd6efe58",
   "metadata": {
    "execution": {
     "iopub.execute_input": "2023-10-09T11:22:21.549766Z",
     "iopub.status.busy": "2023-10-09T11:22:21.548962Z",
     "iopub.status.idle": "2023-10-09T11:22:21.554195Z",
     "shell.execute_reply": "2023-10-09T11:22:21.553391Z"
    },
    "papermill": {
     "duration": 0.013773,
     "end_time": "2023-10-09T11:22:21.555993",
     "exception": false,
     "start_time": "2023-10-09T11:22:21.542220",
     "status": "completed"
    },
    "tags": []
   },
   "outputs": [],
   "source": [
    "def mlp(x):\n",
    "    x = Dense(mlp_dim, activation=\"gelu\")(x)\n",
    "    x = Dropout(dropout_rate)(x)\n",
    "    x = Dense(hidden_dim)(x)\n",
    "    x = Dropout(dropout_rate)(x)\n",
    "    return x"
   ]
  },
  {
   "cell_type": "code",
   "execution_count": 12,
   "id": "0054545c",
   "metadata": {
    "execution": {
     "iopub.execute_input": "2023-10-09T11:22:21.569633Z",
     "iopub.status.busy": "2023-10-09T11:22:21.568841Z",
     "iopub.status.idle": "2023-10-09T11:22:21.574595Z",
     "shell.execute_reply": "2023-10-09T11:22:21.573727Z"
    },
    "papermill": {
     "duration": 0.014494,
     "end_time": "2023-10-09T11:22:21.576541",
     "exception": false,
     "start_time": "2023-10-09T11:22:21.562047",
     "status": "completed"
    },
    "tags": []
   },
   "outputs": [],
   "source": [
    "def transformer_encoder(x):\n",
    "    skip1 = x\n",
    "    x = LayerNormalization()(x)\n",
    "    x = MultiHeadAttention(\n",
    "        num_heads=num_heads, key_dim=hidden_dim\n",
    "    )(x, x)\n",
    "    x = Add()([x, skip1])\n",
    "    skip2 = x\n",
    "    x = LayerNormalization()(x)\n",
    "    x = mlp(x)\n",
    "    x = Add()([x, skip2])\n",
    "    \n",
    "    return x"
   ]
  },
  {
   "cell_type": "code",
   "execution_count": 13,
   "id": "87bceec6",
   "metadata": {
    "execution": {
     "iopub.execute_input": "2023-10-09T11:22:21.590437Z",
     "iopub.status.busy": "2023-10-09T11:22:21.589572Z",
     "iopub.status.idle": "2023-10-09T11:22:21.596837Z",
     "shell.execute_reply": "2023-10-09T11:22:21.596041Z"
    },
    "papermill": {
     "duration": 0.016089,
     "end_time": "2023-10-09T11:22:21.598696",
     "exception": false,
     "start_time": "2023-10-09T11:22:21.582607",
     "status": "completed"
    },
    "tags": []
   },
   "outputs": [],
   "source": [
    "def ViT():\n",
    "    \"\"\"Input\"\"\"\n",
    "    input_shape = (num_patches, patch_size*patch_size*num_channels)\n",
    "    inputs = Input(input_shape)\n",
    "    \n",
    "    \"\"\"Patch + Embeddings\"\"\"\n",
    "    patch_embed = Dense(hidden_dim)(inputs)\n",
    "    \n",
    "    positions = tf.range(start=0, limit=num_patches, delta=1)\n",
    "    pos_embed = Embedding(input_dim=num_patches, output_dim=hidden_dim)(positions)\n",
    "    \n",
    "    embed = patch_embed + pos_embed\n",
    "    \n",
    "    \"\"\"Adding Class Token\"\"\"\n",
    "    token = ClassToken()(embed)\n",
    "    x = Concatenate(axis=1)([token, embed])\n",
    "    \n",
    "    for _ in range(num_layers):\n",
    "        x = transformer_encoder(x)\n",
    "    \n",
    "    \"\"\"Classification Head\"\"\"\n",
    "    x = LayerNormalization()(x)\n",
    "    x = x[:, 0, :]\n",
    "    \n",
    "    x = Dense(num_classes, activation='softmax')(x)\n",
    "    model = Model(inputs, x)\n",
    "    return model"
   ]
  },
  {
   "cell_type": "markdown",
   "id": "4f552c89",
   "metadata": {
    "papermill": {
     "duration": 0.006042,
     "end_time": "2023-10-09T11:22:21.610849",
     "exception": false,
     "start_time": "2023-10-09T11:22:21.604807",
     "status": "completed"
    },
    "tags": []
   },
   "source": [
    "# Training"
   ]
  },
  {
   "cell_type": "code",
   "execution_count": 14,
   "id": "d47a6e38",
   "metadata": {
    "execution": {
     "iopub.execute_input": "2023-10-09T11:22:21.624682Z",
     "iopub.status.busy": "2023-10-09T11:22:21.623956Z",
     "iopub.status.idle": "2023-10-09T11:22:24.596543Z",
     "shell.execute_reply": "2023-10-09T11:22:24.595212Z"
    },
    "papermill": {
     "duration": 2.984744,
     "end_time": "2023-10-09T11:22:24.601734",
     "exception": false,
     "start_time": "2023-10-09T11:22:21.616990",
     "status": "completed"
    },
    "tags": []
   },
   "outputs": [],
   "source": [
    "strategy = tf.distribute.MirroredStrategy()"
   ]
  },
  {
   "cell_type": "code",
   "execution_count": 15,
   "id": "dc3775fa",
   "metadata": {
    "execution": {
     "iopub.execute_input": "2023-10-09T11:22:24.617041Z",
     "iopub.status.busy": "2023-10-09T11:22:24.616726Z",
     "iopub.status.idle": "2023-10-09T11:22:24.621226Z",
     "shell.execute_reply": "2023-10-09T11:22:24.620241Z"
    },
    "papermill": {
     "duration": 0.013345,
     "end_time": "2023-10-09T11:22:24.623022",
     "exception": false,
     "start_time": "2023-10-09T11:22:24.609677",
     "status": "completed"
    },
    "tags": []
   },
   "outputs": [],
   "source": [
    "batch_size = batch_size * strategy.num_replicas_in_sync"
   ]
  },
  {
   "cell_type": "code",
   "execution_count": 16,
   "id": "e4584791",
   "metadata": {
    "execution": {
     "iopub.execute_input": "2023-10-09T11:22:24.636681Z",
     "iopub.status.busy": "2023-10-09T11:22:24.636139Z",
     "iopub.status.idle": "2023-10-09T11:22:24.735302Z",
     "shell.execute_reply": "2023-10-09T11:22:24.734393Z"
    },
    "papermill": {
     "duration": 0.108241,
     "end_time": "2023-10-09T11:22:24.737480",
     "exception": false,
     "start_time": "2023-10-09T11:22:24.629239",
     "status": "completed"
    },
    "tags": []
   },
   "outputs": [],
   "source": [
    "train_data = tf_dataset(train_x, batch=batch_size)\n",
    "valid_data = tf_dataset(valid_x, batch=batch_size)"
   ]
  },
  {
   "cell_type": "code",
   "execution_count": 17,
   "id": "4ac845d3",
   "metadata": {
    "execution": {
     "iopub.execute_input": "2023-10-09T11:22:24.751647Z",
     "iopub.status.busy": "2023-10-09T11:22:24.750878Z",
     "iopub.status.idle": "2023-10-09T11:22:26.282708Z",
     "shell.execute_reply": "2023-10-09T11:22:26.281793Z"
    },
    "papermill": {
     "duration": 1.54234,
     "end_time": "2023-10-09T11:22:26.286183",
     "exception": false,
     "start_time": "2023-10-09T11:22:24.743843",
     "status": "completed"
    },
    "tags": []
   },
   "outputs": [
    {
     "name": "stdout",
     "output_type": "stream",
     "text": [
      "Model: \"model\"\n",
      "__________________________________________________________________________________________________\n",
      "Layer (type)                    Output Shape         Param #     Connected to                     \n",
      "==================================================================================================\n",
      "input_1 (InputLayer)            [(None, 64, 1875)]   0                                            \n",
      "__________________________________________________________________________________________________\n",
      "dense (Dense)                   (None, 64, 768)      1440768     input_1[0][0]                    \n",
      "__________________________________________________________________________________________________\n",
      "tf.__operators__.add (TFOpLambd (None, 64, 768)      0           dense[0][0]                      \n",
      "__________________________________________________________________________________________________\n",
      "class_token (ClassToken)        (None, 1, 768)       768         tf.__operators__.add[0][0]       \n",
      "__________________________________________________________________________________________________\n",
      "concatenate (Concatenate)       (None, 65, 768)      0           class_token[0][0]                \n",
      "                                                                 tf.__operators__.add[0][0]       \n",
      "__________________________________________________________________________________________________\n",
      "layer_normalization (LayerNorma (None, 65, 768)      1536        concatenate[0][0]                \n",
      "__________________________________________________________________________________________________\n",
      "multi_head_attention (MultiHead (None, 65, 768)      28339968    layer_normalization[0][0]        \n",
      "                                                                 layer_normalization[0][0]        \n",
      "__________________________________________________________________________________________________\n",
      "add (Add)                       (None, 65, 768)      0           multi_head_attention[0][0]       \n",
      "                                                                 concatenate[0][0]                \n",
      "__________________________________________________________________________________________________\n",
      "layer_normalization_1 (LayerNor (None, 65, 768)      1536        add[0][0]                        \n",
      "__________________________________________________________________________________________________\n",
      "dense_1 (Dense)                 (None, 65, 3072)     2362368     layer_normalization_1[0][0]      \n",
      "__________________________________________________________________________________________________\n",
      "dropout (Dropout)               (None, 65, 3072)     0           dense_1[0][0]                    \n",
      "__________________________________________________________________________________________________\n",
      "dense_2 (Dense)                 (None, 65, 768)      2360064     dropout[0][0]                    \n",
      "__________________________________________________________________________________________________\n",
      "dropout_1 (Dropout)             (None, 65, 768)      0           dense_2[0][0]                    \n",
      "__________________________________________________________________________________________________\n",
      "add_1 (Add)                     (None, 65, 768)      0           dropout_1[0][0]                  \n",
      "                                                                 add[0][0]                        \n",
      "__________________________________________________________________________________________________\n",
      "layer_normalization_2 (LayerNor (None, 65, 768)      1536        add_1[0][0]                      \n",
      "__________________________________________________________________________________________________\n",
      "multi_head_attention_1 (MultiHe (None, 65, 768)      28339968    layer_normalization_2[0][0]      \n",
      "                                                                 layer_normalization_2[0][0]      \n",
      "__________________________________________________________________________________________________\n",
      "add_2 (Add)                     (None, 65, 768)      0           multi_head_attention_1[0][0]     \n",
      "                                                                 add_1[0][0]                      \n",
      "__________________________________________________________________________________________________\n",
      "layer_normalization_3 (LayerNor (None, 65, 768)      1536        add_2[0][0]                      \n",
      "__________________________________________________________________________________________________\n",
      "dense_3 (Dense)                 (None, 65, 3072)     2362368     layer_normalization_3[0][0]      \n",
      "__________________________________________________________________________________________________\n",
      "dropout_2 (Dropout)             (None, 65, 3072)     0           dense_3[0][0]                    \n",
      "__________________________________________________________________________________________________\n",
      "dense_4 (Dense)                 (None, 65, 768)      2360064     dropout_2[0][0]                  \n",
      "__________________________________________________________________________________________________\n",
      "dropout_3 (Dropout)             (None, 65, 768)      0           dense_4[0][0]                    \n",
      "__________________________________________________________________________________________________\n",
      "add_3 (Add)                     (None, 65, 768)      0           dropout_3[0][0]                  \n",
      "                                                                 add_2[0][0]                      \n",
      "__________________________________________________________________________________________________\n",
      "layer_normalization_4 (LayerNor (None, 65, 768)      1536        add_3[0][0]                      \n",
      "__________________________________________________________________________________________________\n",
      "multi_head_attention_2 (MultiHe (None, 65, 768)      28339968    layer_normalization_4[0][0]      \n",
      "                                                                 layer_normalization_4[0][0]      \n",
      "__________________________________________________________________________________________________\n",
      "add_4 (Add)                     (None, 65, 768)      0           multi_head_attention_2[0][0]     \n",
      "                                                                 add_3[0][0]                      \n",
      "__________________________________________________________________________________________________\n",
      "layer_normalization_5 (LayerNor (None, 65, 768)      1536        add_4[0][0]                      \n",
      "__________________________________________________________________________________________________\n",
      "dense_5 (Dense)                 (None, 65, 3072)     2362368     layer_normalization_5[0][0]      \n",
      "__________________________________________________________________________________________________\n",
      "dropout_4 (Dropout)             (None, 65, 3072)     0           dense_5[0][0]                    \n",
      "__________________________________________________________________________________________________\n",
      "dense_6 (Dense)                 (None, 65, 768)      2360064     dropout_4[0][0]                  \n",
      "__________________________________________________________________________________________________\n",
      "dropout_5 (Dropout)             (None, 65, 768)      0           dense_6[0][0]                    \n",
      "__________________________________________________________________________________________________\n",
      "add_5 (Add)                     (None, 65, 768)      0           dropout_5[0][0]                  \n",
      "                                                                 add_4[0][0]                      \n",
      "__________________________________________________________________________________________________\n",
      "layer_normalization_6 (LayerNor (None, 65, 768)      1536        add_5[0][0]                      \n",
      "__________________________________________________________________________________________________\n",
      "multi_head_attention_3 (MultiHe (None, 65, 768)      28339968    layer_normalization_6[0][0]      \n",
      "                                                                 layer_normalization_6[0][0]      \n",
      "__________________________________________________________________________________________________\n",
      "add_6 (Add)                     (None, 65, 768)      0           multi_head_attention_3[0][0]     \n",
      "                                                                 add_5[0][0]                      \n",
      "__________________________________________________________________________________________________\n",
      "layer_normalization_7 (LayerNor (None, 65, 768)      1536        add_6[0][0]                      \n",
      "__________________________________________________________________________________________________\n",
      "dense_7 (Dense)                 (None, 65, 3072)     2362368     layer_normalization_7[0][0]      \n",
      "__________________________________________________________________________________________________\n",
      "dropout_6 (Dropout)             (None, 65, 3072)     0           dense_7[0][0]                    \n",
      "__________________________________________________________________________________________________\n",
      "dense_8 (Dense)                 (None, 65, 768)      2360064     dropout_6[0][0]                  \n",
      "__________________________________________________________________________________________________\n",
      "dropout_7 (Dropout)             (None, 65, 768)      0           dense_8[0][0]                    \n",
      "__________________________________________________________________________________________________\n",
      "add_7 (Add)                     (None, 65, 768)      0           dropout_7[0][0]                  \n",
      "                                                                 add_6[0][0]                      \n",
      "__________________________________________________________________________________________________\n",
      "layer_normalization_8 (LayerNor (None, 65, 768)      1536        add_7[0][0]                      \n",
      "__________________________________________________________________________________________________\n",
      "multi_head_attention_4 (MultiHe (None, 65, 768)      28339968    layer_normalization_8[0][0]      \n",
      "                                                                 layer_normalization_8[0][0]      \n",
      "__________________________________________________________________________________________________\n",
      "add_8 (Add)                     (None, 65, 768)      0           multi_head_attention_4[0][0]     \n",
      "                                                                 add_7[0][0]                      \n",
      "__________________________________________________________________________________________________\n",
      "layer_normalization_9 (LayerNor (None, 65, 768)      1536        add_8[0][0]                      \n",
      "__________________________________________________________________________________________________\n",
      "dense_9 (Dense)                 (None, 65, 3072)     2362368     layer_normalization_9[0][0]      \n",
      "__________________________________________________________________________________________________\n",
      "dropout_8 (Dropout)             (None, 65, 3072)     0           dense_9[0][0]                    \n",
      "__________________________________________________________________________________________________\n",
      "dense_10 (Dense)                (None, 65, 768)      2360064     dropout_8[0][0]                  \n",
      "__________________________________________________________________________________________________\n",
      "dropout_9 (Dropout)             (None, 65, 768)      0           dense_10[0][0]                   \n",
      "__________________________________________________________________________________________________\n",
      "add_9 (Add)                     (None, 65, 768)      0           dropout_9[0][0]                  \n",
      "                                                                 add_8[0][0]                      \n",
      "__________________________________________________________________________________________________\n",
      "layer_normalization_10 (LayerNo (None, 65, 768)      1536        add_9[0][0]                      \n",
      "__________________________________________________________________________________________________\n",
      "multi_head_attention_5 (MultiHe (None, 65, 768)      28339968    layer_normalization_10[0][0]     \n",
      "                                                                 layer_normalization_10[0][0]     \n",
      "__________________________________________________________________________________________________\n",
      "add_10 (Add)                    (None, 65, 768)      0           multi_head_attention_5[0][0]     \n",
      "                                                                 add_9[0][0]                      \n",
      "__________________________________________________________________________________________________\n",
      "layer_normalization_11 (LayerNo (None, 65, 768)      1536        add_10[0][0]                     \n",
      "__________________________________________________________________________________________________\n",
      "dense_11 (Dense)                (None, 65, 3072)     2362368     layer_normalization_11[0][0]     \n",
      "__________________________________________________________________________________________________\n",
      "dropout_10 (Dropout)            (None, 65, 3072)     0           dense_11[0][0]                   \n",
      "__________________________________________________________________________________________________\n",
      "dense_12 (Dense)                (None, 65, 768)      2360064     dropout_10[0][0]                 \n",
      "__________________________________________________________________________________________________\n",
      "dropout_11 (Dropout)            (None, 65, 768)      0           dense_12[0][0]                   \n",
      "__________________________________________________________________________________________________\n",
      "add_11 (Add)                    (None, 65, 768)      0           dropout_11[0][0]                 \n",
      "                                                                 add_10[0][0]                     \n",
      "__________________________________________________________________________________________________\n",
      "layer_normalization_12 (LayerNo (None, 65, 768)      1536        add_11[0][0]                     \n",
      "__________________________________________________________________________________________________\n",
      "multi_head_attention_6 (MultiHe (None, 65, 768)      28339968    layer_normalization_12[0][0]     \n",
      "                                                                 layer_normalization_12[0][0]     \n",
      "__________________________________________________________________________________________________\n",
      "add_12 (Add)                    (None, 65, 768)      0           multi_head_attention_6[0][0]     \n",
      "                                                                 add_11[0][0]                     \n",
      "__________________________________________________________________________________________________\n",
      "layer_normalization_13 (LayerNo (None, 65, 768)      1536        add_12[0][0]                     \n",
      "__________________________________________________________________________________________________\n",
      "dense_13 (Dense)                (None, 65, 3072)     2362368     layer_normalization_13[0][0]     \n",
      "__________________________________________________________________________________________________\n",
      "dropout_12 (Dropout)            (None, 65, 3072)     0           dense_13[0][0]                   \n",
      "__________________________________________________________________________________________________\n",
      "dense_14 (Dense)                (None, 65, 768)      2360064     dropout_12[0][0]                 \n",
      "__________________________________________________________________________________________________\n",
      "dropout_13 (Dropout)            (None, 65, 768)      0           dense_14[0][0]                   \n",
      "__________________________________________________________________________________________________\n",
      "add_13 (Add)                    (None, 65, 768)      0           dropout_13[0][0]                 \n",
      "                                                                 add_12[0][0]                     \n",
      "__________________________________________________________________________________________________\n",
      "layer_normalization_14 (LayerNo (None, 65, 768)      1536        add_13[0][0]                     \n",
      "__________________________________________________________________________________________________\n",
      "multi_head_attention_7 (MultiHe (None, 65, 768)      28339968    layer_normalization_14[0][0]     \n",
      "                                                                 layer_normalization_14[0][0]     \n",
      "__________________________________________________________________________________________________\n",
      "add_14 (Add)                    (None, 65, 768)      0           multi_head_attention_7[0][0]     \n",
      "                                                                 add_13[0][0]                     \n",
      "__________________________________________________________________________________________________\n",
      "layer_normalization_15 (LayerNo (None, 65, 768)      1536        add_14[0][0]                     \n",
      "__________________________________________________________________________________________________\n",
      "dense_15 (Dense)                (None, 65, 3072)     2362368     layer_normalization_15[0][0]     \n",
      "__________________________________________________________________________________________________\n",
      "dropout_14 (Dropout)            (None, 65, 3072)     0           dense_15[0][0]                   \n",
      "__________________________________________________________________________________________________\n",
      "dense_16 (Dense)                (None, 65, 768)      2360064     dropout_14[0][0]                 \n",
      "__________________________________________________________________________________________________\n",
      "dropout_15 (Dropout)            (None, 65, 768)      0           dense_16[0][0]                   \n",
      "__________________________________________________________________________________________________\n",
      "add_15 (Add)                    (None, 65, 768)      0           dropout_15[0][0]                 \n",
      "                                                                 add_14[0][0]                     \n",
      "__________________________________________________________________________________________________\n",
      "layer_normalization_16 (LayerNo (None, 65, 768)      1536        add_15[0][0]                     \n",
      "__________________________________________________________________________________________________\n",
      "multi_head_attention_8 (MultiHe (None, 65, 768)      28339968    layer_normalization_16[0][0]     \n",
      "                                                                 layer_normalization_16[0][0]     \n",
      "__________________________________________________________________________________________________\n",
      "add_16 (Add)                    (None, 65, 768)      0           multi_head_attention_8[0][0]     \n",
      "                                                                 add_15[0][0]                     \n",
      "__________________________________________________________________________________________________\n",
      "layer_normalization_17 (LayerNo (None, 65, 768)      1536        add_16[0][0]                     \n",
      "__________________________________________________________________________________________________\n",
      "dense_17 (Dense)                (None, 65, 3072)     2362368     layer_normalization_17[0][0]     \n",
      "__________________________________________________________________________________________________\n",
      "dropout_16 (Dropout)            (None, 65, 3072)     0           dense_17[0][0]                   \n",
      "__________________________________________________________________________________________________\n",
      "dense_18 (Dense)                (None, 65, 768)      2360064     dropout_16[0][0]                 \n",
      "__________________________________________________________________________________________________\n",
      "dropout_17 (Dropout)            (None, 65, 768)      0           dense_18[0][0]                   \n",
      "__________________________________________________________________________________________________\n",
      "add_17 (Add)                    (None, 65, 768)      0           dropout_17[0][0]                 \n",
      "                                                                 add_16[0][0]                     \n",
      "__________________________________________________________________________________________________\n",
      "layer_normalization_18 (LayerNo (None, 65, 768)      1536        add_17[0][0]                     \n",
      "__________________________________________________________________________________________________\n",
      "multi_head_attention_9 (MultiHe (None, 65, 768)      28339968    layer_normalization_18[0][0]     \n",
      "                                                                 layer_normalization_18[0][0]     \n",
      "__________________________________________________________________________________________________\n",
      "add_18 (Add)                    (None, 65, 768)      0           multi_head_attention_9[0][0]     \n",
      "                                                                 add_17[0][0]                     \n",
      "__________________________________________________________________________________________________\n",
      "layer_normalization_19 (LayerNo (None, 65, 768)      1536        add_18[0][0]                     \n",
      "__________________________________________________________________________________________________\n",
      "dense_19 (Dense)                (None, 65, 3072)     2362368     layer_normalization_19[0][0]     \n",
      "__________________________________________________________________________________________________\n",
      "dropout_18 (Dropout)            (None, 65, 3072)     0           dense_19[0][0]                   \n",
      "__________________________________________________________________________________________________\n",
      "dense_20 (Dense)                (None, 65, 768)      2360064     dropout_18[0][0]                 \n",
      "__________________________________________________________________________________________________\n",
      "dropout_19 (Dropout)            (None, 65, 768)      0           dense_20[0][0]                   \n",
      "__________________________________________________________________________________________________\n",
      "add_19 (Add)                    (None, 65, 768)      0           dropout_19[0][0]                 \n",
      "                                                                 add_18[0][0]                     \n",
      "__________________________________________________________________________________________________\n",
      "layer_normalization_20 (LayerNo (None, 65, 768)      1536        add_19[0][0]                     \n",
      "__________________________________________________________________________________________________\n",
      "multi_head_attention_10 (MultiH (None, 65, 768)      28339968    layer_normalization_20[0][0]     \n",
      "                                                                 layer_normalization_20[0][0]     \n",
      "__________________________________________________________________________________________________\n",
      "add_20 (Add)                    (None, 65, 768)      0           multi_head_attention_10[0][0]    \n",
      "                                                                 add_19[0][0]                     \n",
      "__________________________________________________________________________________________________\n",
      "layer_normalization_21 (LayerNo (None, 65, 768)      1536        add_20[0][0]                     \n",
      "__________________________________________________________________________________________________\n",
      "dense_21 (Dense)                (None, 65, 3072)     2362368     layer_normalization_21[0][0]     \n",
      "__________________________________________________________________________________________________\n",
      "dropout_20 (Dropout)            (None, 65, 3072)     0           dense_21[0][0]                   \n",
      "__________________________________________________________________________________________________\n",
      "dense_22 (Dense)                (None, 65, 768)      2360064     dropout_20[0][0]                 \n",
      "__________________________________________________________________________________________________\n",
      "dropout_21 (Dropout)            (None, 65, 768)      0           dense_22[0][0]                   \n",
      "__________________________________________________________________________________________________\n",
      "add_21 (Add)                    (None, 65, 768)      0           dropout_21[0][0]                 \n",
      "                                                                 add_20[0][0]                     \n",
      "__________________________________________________________________________________________________\n",
      "layer_normalization_22 (LayerNo (None, 65, 768)      1536        add_21[0][0]                     \n",
      "__________________________________________________________________________________________________\n",
      "multi_head_attention_11 (MultiH (None, 65, 768)      28339968    layer_normalization_22[0][0]     \n",
      "                                                                 layer_normalization_22[0][0]     \n",
      "__________________________________________________________________________________________________\n",
      "add_22 (Add)                    (None, 65, 768)      0           multi_head_attention_11[0][0]    \n",
      "                                                                 add_21[0][0]                     \n",
      "__________________________________________________________________________________________________\n",
      "layer_normalization_23 (LayerNo (None, 65, 768)      1536        add_22[0][0]                     \n",
      "__________________________________________________________________________________________________\n",
      "dense_23 (Dense)                (None, 65, 3072)     2362368     layer_normalization_23[0][0]     \n",
      "__________________________________________________________________________________________________\n",
      "dropout_22 (Dropout)            (None, 65, 3072)     0           dense_23[0][0]                   \n",
      "__________________________________________________________________________________________________\n",
      "dense_24 (Dense)                (None, 65, 768)      2360064     dropout_22[0][0]                 \n",
      "__________________________________________________________________________________________________\n",
      "dropout_23 (Dropout)            (None, 65, 768)      0           dense_24[0][0]                   \n",
      "__________________________________________________________________________________________________\n",
      "add_23 (Add)                    (None, 65, 768)      0           dropout_23[0][0]                 \n",
      "                                                                 add_22[0][0]                     \n",
      "__________________________________________________________________________________________________\n",
      "layer_normalization_24 (LayerNo (None, 65, 768)      1536        add_23[0][0]                     \n",
      "__________________________________________________________________________________________________\n",
      "tf.__operators__.getitem (Slici (None, 768)          0           layer_normalization_24[0][0]     \n",
      "__________________________________________________________________________________________________\n",
      "dense_25 (Dense)                (None, 2)            1538        tf.__operators__.getitem[0][0]   \n",
      "==================================================================================================\n",
      "Total params: 398,230,274\n",
      "Trainable params: 398,230,274\n",
      "Non-trainable params: 0\n",
      "__________________________________________________________________________________________________\n"
     ]
    }
   ],
   "source": [
    "with strategy.scope():\n",
    "    model = ViT()\n",
    "    model.compile(loss='categorical_crossentropy', \n",
    "             optimizer=tf.keras.optimizers.Adam(lr, clipvalue=1.0),\n",
    "             metrics=['acc'])\n",
    "model.summary()"
   ]
  },
  {
   "cell_type": "code",
   "execution_count": 18,
   "id": "914e7f32",
   "metadata": {
    "execution": {
     "iopub.execute_input": "2023-10-09T11:22:26.301280Z",
     "iopub.status.busy": "2023-10-09T11:22:26.300695Z",
     "iopub.status.idle": "2023-10-09T11:37:49.268635Z",
     "shell.execute_reply": "2023-10-09T11:37:49.267619Z"
    },
    "papermill": {
     "duration": 922.978895,
     "end_time": "2023-10-09T11:37:49.271949",
     "exception": false,
     "start_time": "2023-10-09T11:22:26.293054",
     "status": "completed"
    },
    "tags": []
   },
   "outputs": [
    {
     "name": "stdout",
     "output_type": "stream",
     "text": [
      "Epoch 1/10\n",
      "74/74 [==============================] - 90s 1s/step - loss: 1.0619 - acc: 0.5153 - val_loss: 0.7371 - val_acc: 0.4962\n",
      "\n",
      "Epoch 00001: val_loss improved from inf to 0.73706, saving model to files/model.h5\n"
     ]
    },
    {
     "name": "stderr",
     "output_type": "stream",
     "text": [
      "/opt/conda/lib/python3.7/site-packages/keras/utils/generic_utils.py:497: CustomMaskWarning: Custom mask layers require a config and must override get_config. When loading, the custom mask layer must be passed to the custom_objects argument.\n",
      "  category=CustomMaskWarning)\n"
     ]
    },
    {
     "name": "stdout",
     "output_type": "stream",
     "text": [
      "Epoch 2/10\n",
      "74/74 [==============================] - 73s 983ms/step - loss: 0.4885 - acc: 0.7534 - val_loss: 0.1942 - val_acc: 0.9237\n",
      "\n",
      "Epoch 00002: val_loss improved from 0.73706 to 0.19415, saving model to files/model.h5\n",
      "Epoch 3/10\n",
      "74/74 [==============================] - 73s 980ms/step - loss: 0.1477 - acc: 0.9431 - val_loss: 0.0790 - val_acc: 0.9656\n",
      "\n",
      "Epoch 00003: val_loss improved from 0.19415 to 0.07903, saving model to files/model.h5\n",
      "Epoch 4/10\n",
      "74/74 [==============================] - 73s 979ms/step - loss: 0.0959 - acc: 0.9686 - val_loss: 0.0619 - val_acc: 0.9809\n",
      "\n",
      "Epoch 00004: val_loss improved from 0.07903 to 0.06195, saving model to files/model.h5\n",
      "Epoch 5/10\n",
      "74/74 [==============================] - 73s 979ms/step - loss: 0.0908 - acc: 0.9699 - val_loss: 0.0618 - val_acc: 0.9809\n",
      "\n",
      "Epoch 00005: val_loss improved from 0.06195 to 0.06175, saving model to files/model.h5\n",
      "Epoch 6/10\n",
      "74/74 [==============================] - 73s 980ms/step - loss: 0.0621 - acc: 0.9817 - val_loss: 0.1810 - val_acc: 0.9389\n",
      "\n",
      "Epoch 00006: val_loss did not improve from 0.06175\n",
      "Epoch 7/10\n",
      "74/74 [==============================] - 72s 978ms/step - loss: 0.0774 - acc: 0.9737 - val_loss: 0.0340 - val_acc: 0.9924\n",
      "\n",
      "Epoch 00007: val_loss improved from 0.06175 to 0.03401, saving model to files/model.h5\n",
      "Epoch 8/10\n",
      "74/74 [==============================] - 73s 978ms/step - loss: 0.1069 - acc: 0.9682 - val_loss: 0.1462 - val_acc: 0.9351\n",
      "\n",
      "Epoch 00008: val_loss did not improve from 0.03401\n",
      "Epoch 9/10\n",
      "74/74 [==============================] - 73s 979ms/step - loss: 0.0595 - acc: 0.9813 - val_loss: 0.0402 - val_acc: 0.9847\n",
      "\n",
      "Epoch 00009: val_loss did not improve from 0.03401\n",
      "Epoch 10/10\n",
      "74/74 [==============================] - 72s 978ms/step - loss: 0.0382 - acc: 0.9898 - val_loss: 0.0665 - val_acc: 0.9771\n",
      "\n",
      "Epoch 00010: val_loss did not improve from 0.03401\n"
     ]
    },
    {
     "data": {
      "text/plain": [
       "<keras.callbacks.History at 0x7b98a0136590>"
      ]
     },
     "execution_count": 18,
     "metadata": {},
     "output_type": "execute_result"
    }
   ],
   "source": [
    "callbacks = [\n",
    "    ModelCheckpoint(model_path, monitor='val_loss', verbose=1, save_best_only=True),\n",
    "    ReduceLROnPlateau(monitor='val_loss', factor=0.1, patience=10, min_lr=1e-10, verbose=1),\n",
    "    CSVLogger(log_path),\n",
    "    EarlyStopping(monitor='val_loss', patience=5, restore_best_weights=False),\n",
    "]\n",
    "\n",
    "model.fit(\n",
    "    train_data,\n",
    "    epochs=num_epochs,\n",
    "    validation_data=valid_data,\n",
    "    callbacks=callbacks\n",
    ")"
   ]
  },
  {
   "cell_type": "markdown",
   "id": "258ef023",
   "metadata": {
    "papermill": {
     "duration": 0.037272,
     "end_time": "2023-10-09T11:37:49.347228",
     "exception": false,
     "start_time": "2023-10-09T11:37:49.309956",
     "status": "completed"
    },
    "tags": []
   },
   "source": [
    "# Loss and Validation Plots"
   ]
  },
  {
   "cell_type": "code",
   "execution_count": 19,
   "id": "68d42a6a",
   "metadata": {
    "execution": {
     "iopub.execute_input": "2023-10-09T11:37:49.424814Z",
     "iopub.status.busy": "2023-10-09T11:37:49.424453Z",
     "iopub.status.idle": "2023-10-09T11:37:49.459595Z",
     "shell.execute_reply": "2023-10-09T11:37:49.458555Z"
    },
    "papermill": {
     "duration": 0.076141,
     "end_time": "2023-10-09T11:37:49.461511",
     "exception": false,
     "start_time": "2023-10-09T11:37:49.385370",
     "status": "completed"
    },
    "tags": []
   },
   "outputs": [
    {
     "data": {
      "text/html": [
       "<div>\n",
       "<style scoped>\n",
       "    .dataframe tbody tr th:only-of-type {\n",
       "        vertical-align: middle;\n",
       "    }\n",
       "\n",
       "    .dataframe tbody tr th {\n",
       "        vertical-align: top;\n",
       "    }\n",
       "\n",
       "    .dataframe thead th {\n",
       "        text-align: right;\n",
       "    }\n",
       "</style>\n",
       "<table border=\"1\" class=\"dataframe\">\n",
       "  <thead>\n",
       "    <tr style=\"text-align: right;\">\n",
       "      <th></th>\n",
       "      <th>epoch</th>\n",
       "      <th>acc</th>\n",
       "      <th>loss</th>\n",
       "      <th>lr</th>\n",
       "      <th>val_acc</th>\n",
       "      <th>val_loss</th>\n",
       "    </tr>\n",
       "  </thead>\n",
       "  <tbody>\n",
       "    <tr>\n",
       "      <th>0</th>\n",
       "      <td>0</td>\n",
       "      <td>0.515280</td>\n",
       "      <td>1.061890</td>\n",
       "      <td>0.0001</td>\n",
       "      <td>0.496183</td>\n",
       "      <td>0.737058</td>\n",
       "    </tr>\n",
       "    <tr>\n",
       "      <th>1</th>\n",
       "      <td>1</td>\n",
       "      <td>0.753396</td>\n",
       "      <td>0.488511</td>\n",
       "      <td>0.0001</td>\n",
       "      <td>0.923664</td>\n",
       "      <td>0.194154</td>\n",
       "    </tr>\n",
       "    <tr>\n",
       "      <th>2</th>\n",
       "      <td>2</td>\n",
       "      <td>0.943124</td>\n",
       "      <td>0.147721</td>\n",
       "      <td>0.0001</td>\n",
       "      <td>0.965649</td>\n",
       "      <td>0.079026</td>\n",
       "    </tr>\n",
       "    <tr>\n",
       "      <th>3</th>\n",
       "      <td>3</td>\n",
       "      <td>0.968591</td>\n",
       "      <td>0.095882</td>\n",
       "      <td>0.0001</td>\n",
       "      <td>0.980916</td>\n",
       "      <td>0.061947</td>\n",
       "    </tr>\n",
       "    <tr>\n",
       "      <th>4</th>\n",
       "      <td>4</td>\n",
       "      <td>0.969864</td>\n",
       "      <td>0.090754</td>\n",
       "      <td>0.0001</td>\n",
       "      <td>0.980916</td>\n",
       "      <td>0.061751</td>\n",
       "    </tr>\n",
       "    <tr>\n",
       "      <th>5</th>\n",
       "      <td>5</td>\n",
       "      <td>0.981749</td>\n",
       "      <td>0.062078</td>\n",
       "      <td>0.0001</td>\n",
       "      <td>0.938931</td>\n",
       "      <td>0.181006</td>\n",
       "    </tr>\n",
       "    <tr>\n",
       "      <th>6</th>\n",
       "      <td>6</td>\n",
       "      <td>0.973684</td>\n",
       "      <td>0.077398</td>\n",
       "      <td>0.0001</td>\n",
       "      <td>0.992366</td>\n",
       "      <td>0.034005</td>\n",
       "    </tr>\n",
       "    <tr>\n",
       "      <th>7</th>\n",
       "      <td>7</td>\n",
       "      <td>0.968166</td>\n",
       "      <td>0.106924</td>\n",
       "      <td>0.0001</td>\n",
       "      <td>0.935115</td>\n",
       "      <td>0.146208</td>\n",
       "    </tr>\n",
       "    <tr>\n",
       "      <th>8</th>\n",
       "      <td>8</td>\n",
       "      <td>0.981324</td>\n",
       "      <td>0.059509</td>\n",
       "      <td>0.0001</td>\n",
       "      <td>0.984733</td>\n",
       "      <td>0.040221</td>\n",
       "    </tr>\n",
       "    <tr>\n",
       "      <th>9</th>\n",
       "      <td>9</td>\n",
       "      <td>0.989813</td>\n",
       "      <td>0.038240</td>\n",
       "      <td>0.0001</td>\n",
       "      <td>0.977099</td>\n",
       "      <td>0.066455</td>\n",
       "    </tr>\n",
       "  </tbody>\n",
       "</table>\n",
       "</div>"
      ],
      "text/plain": [
       "   epoch       acc      loss      lr   val_acc  val_loss\n",
       "0      0  0.515280  1.061890  0.0001  0.496183  0.737058\n",
       "1      1  0.753396  0.488511  0.0001  0.923664  0.194154\n",
       "2      2  0.943124  0.147721  0.0001  0.965649  0.079026\n",
       "3      3  0.968591  0.095882  0.0001  0.980916  0.061947\n",
       "4      4  0.969864  0.090754  0.0001  0.980916  0.061751\n",
       "5      5  0.981749  0.062078  0.0001  0.938931  0.181006\n",
       "6      6  0.973684  0.077398  0.0001  0.992366  0.034005\n",
       "7      7  0.968166  0.106924  0.0001  0.935115  0.146208\n",
       "8      8  0.981324  0.059509  0.0001  0.984733  0.040221\n",
       "9      9  0.989813  0.038240  0.0001  0.977099  0.066455"
      ]
     },
     "execution_count": 19,
     "metadata": {},
     "output_type": "execute_result"
    }
   ],
   "source": [
    "df = pd.read_csv('/kaggle/working/files/log.csv')\n",
    "df # training log"
   ]
  },
  {
   "cell_type": "code",
   "execution_count": 20,
   "id": "fdd26b3b",
   "metadata": {
    "execution": {
     "iopub.execute_input": "2023-10-09T11:37:49.540074Z",
     "iopub.status.busy": "2023-10-09T11:37:49.539785Z",
     "iopub.status.idle": "2023-10-09T11:37:49.967271Z",
     "shell.execute_reply": "2023-10-09T11:37:49.965955Z"
    },
    "papermill": {
     "duration": 0.469926,
     "end_time": "2023-10-09T11:37:49.969873",
     "exception": false,
     "start_time": "2023-10-09T11:37:49.499947",
     "status": "completed"
    },
    "tags": []
   },
   "outputs": [
    {
     "data": {
      "image/png": "[encoded data removed]",
      "text/plain": [
       "<Figure size 432x288 with 1 Axes>"
      ]
     },
     "metadata": {
      "needs_background": "light"
     },
     "output_type": "display_data"
    },
    {
     "data": {
      "image/png": "[encoded data removed]",
      "text/plain": [
       "<Figure size 432x288 with 1 Axes>"
      ]
     },
     "metadata": {
      "needs_background": "light"
     },
     "output_type": "display_data"
    }
   ],
   "source": [
    "plt.plot(df['acc'])\n",
    "plt.plot(df['val_acc'])\n",
    "plt.title('Model accuracy')\n",
    "plt.ylabel('accuracy')\n",
    "plt.xlabel('epoch')\n",
    "plt.legend(['train', 'test'], loc='upper left')\n",
    "plt.show()\n",
    "\n",
    "plt.plot(df['loss'])\n",
    "plt.plot(df['val_loss'])\n",
    "plt.title('model loss')\n",
    "plt.ylabel('loss')\n",
    "plt.xlabel('epoch')\n",
    "plt.legend(['train', 'test'], loc='upper left')\n",
    "plt.show()"
   ]
  },
  {
   "cell_type": "markdown",
   "id": "eae56fac",
   "metadata": {
    "papermill": {
     "duration": 0.039027,
     "end_time": "2023-10-09T11:37:50.049143",
     "exception": false,
     "start_time": "2023-10-09T11:37:50.010116",
     "status": "completed"
    },
    "tags": []
   },
   "source": [
    "# Testing Data"
   ]
  },
  {
   "cell_type": "code",
   "execution_count": 21,
   "id": "c2895b8f",
   "metadata": {
    "execution": {
     "iopub.execute_input": "2023-10-09T11:37:50.129130Z",
     "iopub.status.busy": "2023-10-09T11:37:50.128450Z",
     "iopub.status.idle": "2023-10-09T11:37:50.281224Z",
     "shell.execute_reply": "2023-10-09T11:37:50.280239Z"
    },
    "papermill": {
     "duration": 0.195091,
     "end_time": "2023-10-09T11:37:50.283521",
     "exception": false,
     "start_time": "2023-10-09T11:37:50.088430",
     "status": "completed"
    },
    "tags": []
   },
   "outputs": [],
   "source": [
    "TEST_PATH = '/kaggle/input/bleedgen-test-data/Auto-WCEBleedGen Challenge Test Dataset'\n",
    "test_data_1 = glob(os.path.join(TEST_PATH, 'Test Dataset 1', '*.png'))\n",
    "test_data_2 = glob(os.path.join(TEST_PATH, 'Test Dataset 2', '*.png'))\n",
    "\n",
    "test_data = test_data_1 + test_data_2"
   ]
  },
  {
   "cell_type": "code",
   "execution_count": 22,
   "id": "93487abc",
   "metadata": {
    "execution": {
     "iopub.execute_input": "2023-10-09T11:37:50.366132Z",
     "iopub.status.busy": "2023-10-09T11:37:50.365435Z",
     "iopub.status.idle": "2023-10-09T11:38:00.282685Z",
     "shell.execute_reply": "2023-10-09T11:38:00.281701Z"
    },
    "papermill": {
     "duration": 9.961463,
     "end_time": "2023-10-09T11:38:00.284985",
     "exception": false,
     "start_time": "2023-10-09T11:37:50.323522",
     "status": "completed"
    },
    "tags": []
   },
   "outputs": [],
   "source": [
    "model.load_weights(model_path)"
   ]
  },
  {
   "cell_type": "code",
   "execution_count": 23,
   "id": "72b1f5f6",
   "metadata": {
    "execution": {
     "iopub.execute_input": "2023-10-09T11:38:00.367026Z",
     "iopub.status.busy": "2023-10-09T11:38:00.366708Z",
     "iopub.status.idle": "2023-10-09T11:38:00.373139Z",
     "shell.execute_reply": "2023-10-09T11:38:00.372151Z"
    },
    "papermill": {
     "duration": 0.04803,
     "end_time": "2023-10-09T11:38:00.375018",
     "exception": false,
     "start_time": "2023-10-09T11:38:00.326988",
     "status": "completed"
    },
    "tags": []
   },
   "outputs": [],
   "source": [
    "predicted_df = pd.DataFrame(columns=['ID', 'Predicted_Class'])"
   ]
  },
  {
   "cell_type": "code",
   "execution_count": 24,
   "id": "e176d970",
   "metadata": {
    "execution": {
     "iopub.execute_input": "2023-10-09T11:38:00.454388Z",
     "iopub.status.busy": "2023-10-09T11:38:00.453804Z",
     "iopub.status.idle": "2023-10-09T11:38:00.460750Z",
     "shell.execute_reply": "2023-10-09T11:38:00.459768Z"
    },
    "papermill": {
     "duration": 0.049054,
     "end_time": "2023-10-09T11:38:00.463173",
     "exception": false,
     "start_time": "2023-10-09T11:38:00.414119",
     "status": "completed"
    },
    "tags": []
   },
   "outputs": [],
   "source": [
    "def predict_single_image(image_path):\n",
    "    img = cv2.imread(image_path, cv2.IMREAD_COLOR)\n",
    "    img = cv2.resize(img, (img_size, img_size))\n",
    "    img = img/255.0\n",
    "    \n",
    "    patch_shape = (patch_size, patch_size, num_channels)\n",
    "    patches = patchify(img, patch_shape, patch_size)\n",
    "    patches = np.reshape(patches, flat_patches_shape)\n",
    "    patches = patches.astype(np.float32)\n",
    "    \n",
    "    patches = tf.expand_dims(patches, axis=0)\n",
    "    \n",
    "    predictions = model.predict(patches)\n",
    "    predicted_class = np.argmax(predictions, axis=-1)[0]\n",
    "    \n",
    "    return predicted_class"
   ]
  },
  {
   "cell_type": "code",
   "execution_count": 25,
   "id": "47876647",
   "metadata": {
    "execution": {
     "iopub.execute_input": "2023-10-09T11:38:00.540525Z",
     "iopub.status.busy": "2023-10-09T11:38:00.540229Z",
     "iopub.status.idle": "2023-10-09T11:39:14.277831Z",
     "shell.execute_reply": "2023-10-09T11:39:14.276760Z"
    },
    "papermill": {
     "duration": 73.778582,
     "end_time": "2023-10-09T11:39:14.280165",
     "exception": false,
     "start_time": "2023-10-09T11:38:00.501583",
     "status": "completed"
    },
    "tags": []
   },
   "outputs": [],
   "source": [
    "for image_path in test_data:\n",
    "    image_id = os.path.basename(image_path)\n",
    "    predicted_class = predict_single_image(image_path)\n",
    "    \n",
    "    predicted_df = predicted_df.append(\n",
    "                    {\n",
    "                        'ID': image_id,\n",
    "                        'Predicted_Class': class_names[predicted_class]\n",
    "                    },\n",
    "                    ignore_index=True)"
   ]
  },
  {
   "cell_type": "code",
   "execution_count": 26,
   "id": "a60b2a24",
   "metadata": {
    "execution": {
     "iopub.execute_input": "2023-10-09T11:39:14.395994Z",
     "iopub.status.busy": "2023-10-09T11:39:14.395641Z",
     "iopub.status.idle": "2023-10-09T11:39:14.404882Z",
     "shell.execute_reply": "2023-10-09T11:39:14.404001Z"
    },
    "papermill": {
     "duration": 0.051085,
     "end_time": "2023-10-09T11:39:14.406808",
     "exception": false,
     "start_time": "2023-10-09T11:39:14.355723",
     "status": "completed"
    },
    "tags": []
   },
   "outputs": [],
   "source": [
    "predicted_df.to_csv('predictions.csv', index=False)"
   ]
  },
  {
   "cell_type": "markdown",
   "id": "12dd490e",
   "metadata": {
    "papermill": {
     "duration": 0.037664,
     "end_time": "2023-10-09T11:39:14.482849",
     "exception": false,
     "start_time": "2023-10-09T11:39:14.445185",
     "status": "completed"
    },
    "tags": []
   },
   "source": [
    "# Accuracy, Recall, F1-Score\n",
    "## on Validation Dataset"
   ]
  },
  {
   "cell_type": "code",
   "execution_count": 27,
   "id": "e1fb97b0",
   "metadata": {
    "execution": {
     "iopub.execute_input": "2023-10-09T11:39:14.560665Z",
     "iopub.status.busy": "2023-10-09T11:39:14.560041Z",
     "iopub.status.idle": "2023-10-09T11:39:14.683100Z",
     "shell.execute_reply": "2023-10-09T11:39:14.682116Z"
    },
    "papermill": {
     "duration": 0.1639,
     "end_time": "2023-10-09T11:39:14.685050",
     "exception": false,
     "start_time": "2023-10-09T11:39:14.521150",
     "status": "completed"
    },
    "tags": []
   },
   "outputs": [
    {
     "data": {
      "text/plain": [
       "('non-bleeding', 'non-bleeding')"
      ]
     },
     "execution_count": 27,
     "metadata": {},
     "output_type": "execute_result"
    }
   ],
   "source": [
    "valid_x[0].split('/')[-3], class_names[predict_single_image(test_data[0])]"
   ]
  },
  {
   "cell_type": "code",
   "execution_count": 28,
   "id": "dbe55720",
   "metadata": {
    "execution": {
     "iopub.execute_input": "2023-10-09T11:39:14.763659Z",
     "iopub.status.busy": "2023-10-09T11:39:14.762900Z",
     "iopub.status.idle": "2023-10-09T11:39:46.519132Z",
     "shell.execute_reply": "2023-10-09T11:39:46.518146Z"
    },
    "papermill": {
     "duration": 31.798031,
     "end_time": "2023-10-09T11:39:46.521574",
     "exception": false,
     "start_time": "2023-10-09T11:39:14.723543",
     "status": "completed"
    },
    "tags": []
   },
   "outputs": [],
   "source": [
    "y_true = []\n",
    "y_pred = []\n",
    "for i, p in enumerate(valid_x):\n",
    "    y = valid_x[i]\n",
    "    y_true.append(y.split('/')[-3])\n",
    "for i, j in enumerate(valid_x):\n",
    "    y_pred.append(class_names[predict_single_image(valid_x[i])])"
   ]
  },
  {
   "cell_type": "code",
   "execution_count": 29,
   "id": "211b9be2",
   "metadata": {
    "execution": {
     "iopub.execute_input": "2023-10-09T11:39:46.603165Z",
     "iopub.status.busy": "2023-10-09T11:39:46.602573Z",
     "iopub.status.idle": "2023-10-09T11:39:46.614643Z",
     "shell.execute_reply": "2023-10-09T11:39:46.613575Z"
    },
    "papermill": {
     "duration": 0.054345,
     "end_time": "2023-10-09T11:39:46.616498",
     "exception": false,
     "start_time": "2023-10-09T11:39:46.562153",
     "status": "completed"
    },
    "tags": []
   },
   "outputs": [
    {
     "name": "stdout",
     "output_type": "stream",
     "text": [
      "              precision    recall  f1-score   support\n",
      "\n",
      "    bleeding       1.00      0.98      0.99       130\n",
      "non-bleeding       0.99      1.00      0.99       132\n",
      "\n",
      "    accuracy                           0.99       262\n",
      "   macro avg       0.99      0.99      0.99       262\n",
      "weighted avg       0.99      0.99      0.99       262\n",
      "\n"
     ]
    }
   ],
   "source": [
    "print(classification_report(y_true, y_pred))"
   ]
  },
  {
   "cell_type": "code",
   "execution_count": 30,
   "id": "f20db598",
   "metadata": {
    "execution": {
     "iopub.execute_input": "2023-10-09T11:39:46.747817Z",
     "iopub.status.busy": "2023-10-09T11:39:46.747480Z",
     "iopub.status.idle": "2023-10-09T11:39:46.756964Z",
     "shell.execute_reply": "2023-10-09T11:39:46.756051Z"
    },
    "papermill": {
     "duration": 0.050505,
     "end_time": "2023-10-09T11:39:46.758800",
     "exception": false,
     "start_time": "2023-10-09T11:39:46.708295",
     "status": "completed"
    },
    "tags": []
   },
   "outputs": [],
   "source": [
    "cm = confusion_matrix(y_true, y_pred)"
   ]
  },
  {
   "cell_type": "code",
   "execution_count": 31,
   "id": "c8a5c969",
   "metadata": {
    "execution": {
     "iopub.execute_input": "2023-10-09T11:39:46.837972Z",
     "iopub.status.busy": "2023-10-09T11:39:46.837704Z",
     "iopub.status.idle": "2023-10-09T11:39:46.842875Z",
     "shell.execute_reply": "2023-10-09T11:39:46.841817Z"
    },
    "papermill": {
     "duration": 0.047534,
     "end_time": "2023-10-09T11:39:46.844939",
     "exception": false,
     "start_time": "2023-10-09T11:39:46.797405",
     "status": "completed"
    },
    "tags": []
   },
   "outputs": [
    {
     "name": "stdout",
     "output_type": "stream",
     "text": [
      "[[128   2]\n",
      " [  0 132]]\n"
     ]
    }
   ],
   "source": [
    "print(cm)"
   ]
  }
 ],
 "metadata": {
  "kernelspec": {
   "display_name": "Python 3",
   "language": "python",
   "name": "python3"
  },
  "language_info": {
   "codemirror_mode": {
    "name": "ipython",
    "version": 3
   },
   "file_extension": ".py",
   "mimetype": "text/x-python",
   "name": "python",
   "nbconvert_exporter": "python",
   "pygments_lexer": "ipython3",
   "version": "3.7.12"
  },
  "papermill": {
   "default_parameters": {},
   "duration": 1073.794072,
   "end_time": "2023-10-09T11:39:50.601742",
   "environment_variables": {},
   "exception": null,
   "input_path": "__notebook__.ipynb",
   "output_path": "__notebook__.ipynb",
   "parameters": {},
   "start_time": "2023-10-09T11:21:56.807670",
   "version": "2.3.4"
  }
 },
 "nbformat": 4,
 "nbformat_minor": 5
}
